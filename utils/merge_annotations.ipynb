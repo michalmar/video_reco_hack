{
 "cells": [
  {
   "cell_type": "markdown",
   "metadata": {},
   "source": [
    "# Merge tagged \\*.json annotations"
   ]
  },
  {
   "cell_type": "code",
   "execution_count": 1,
   "metadata": {},
   "outputs": [],
   "source": [
    "import numpy as np\n",
    "import time\n",
    "import sys\n",
    "import os\n",
    "# import random\n",
    "# from skimage import io\n",
    "import pandas as pd\n",
    "# from matplotlib import pyplot as plt\n",
    "from shutil import copyfile\n",
    "\n",
    "# import cv2\n",
    "# import tensorflow as tf\n"
   ]
  },
  {
   "cell_type": "code",
   "execution_count": 2,
   "metadata": {},
   "outputs": [],
   "source": [
    "base_path = 'Dataset/airport'"
   ]
  },
  {
   "cell_type": "code",
   "execution_count": 25,
   "metadata": {},
   "outputs": [
    {
     "name": "stdout",
     "output_type": "stream",
     "text": [
      "pocet snimku: 30\n",
      "pocet snimku: 40\n",
      "pocet snimku po merge: 70\n",
      "pocet snimku: 141\n",
      "pocet snimku po merge: 211\n",
      "pocet snimku: 69\n",
      "pocet snimku po merge: 266\n",
      "pocet snimku: 40\n",
      "pocet snimku po merge: 303\n",
      "pocet snimku po merge (konec): 303\n"
     ]
    }
   ],
   "source": [
    "import json\n",
    "from pprint import pprint\n",
    "\n",
    "f1 = \"data-michal.json\"\n",
    "files = [\"data-petr-cap.json\"\n",
    ",\"data-tomas-karlik.json\"\n",
    ",\"data-tomas-kovarik.json\"\n",
    ",\"data-tomas-pernica.json\"]\n",
    "\n",
    "with open(f1) as f:\n",
    "    data = json.load(f)\n",
    "print(\"pocet snimku: {}\".format( len(data[\"frames\"].keys())))\n",
    "\n",
    "for ff in files:    \n",
    "    with open(ff) as f:\n",
    "        data2 = json.load(f)\n",
    "    print(\"pocet snimku: {}\".format( len(data2[\"frames\"].keys())))\n",
    "\n",
    "    for key,val in data2[\"frames\"].items():\n",
    "        data[\"frames\"][key] = val\n",
    "\n",
    "    print(\"pocet snimku po merge: {}\".format( len(data[\"frames\"].keys())))\n",
    "\n",
    "\n",
    "print(\"pocet snimku po merge (konec): {}\".format( len(data[\"frames\"].keys())))\n"
   ]
  },
  {
   "cell_type": "code",
   "execution_count": 27,
   "metadata": {},
   "outputs": [],
   "source": [
    "with open('data-merged.json', 'w') as outfile:  \n",
    "    json.dump(data, outfile)"
   ]
  },
  {
   "cell_type": "code",
   "execution_count": null,
   "metadata": {},
   "outputs": [],
   "source": []
  }
 ],
 "metadata": {
  "kernelspec": {
   "display_name": "Python 3 (py36vidhack)",
   "language": "python",
   "name": "py36vidhack"
  },
  "language_info": {
   "codemirror_mode": {
    "name": "ipython",
    "version": 3
   },
   "file_extension": ".py",
   "mimetype": "text/x-python",
   "name": "python",
   "nbconvert_exporter": "python",
   "pygments_lexer": "ipython3",
   "version": "3.6.7"
  }
 },
 "nbformat": 4,
 "nbformat_minor": 2
}
