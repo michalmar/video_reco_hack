{
 "cells": [
  {
   "cell_type": "markdown",
   "metadata": {},
   "source": [
    "# VOTT \\*.json to annotations"
   ]
  },
  {
   "cell_type": "code",
   "execution_count": 32,
   "metadata": {},
   "outputs": [],
   "source": [
    "import numpy as np\n",
    "import time\n",
    "import sys\n",
    "import os\n",
    "# import random\n",
    "# from skimage import io\n",
    "import pandas as pd\n",
    "# from matplotlib import pyplot as plt\n",
    "from shutil import copyfile\n",
    "\n",
    "# import cv2\n",
    "# import tensorflow as tf\n"
   ]
  },
  {
   "cell_type": "code",
   "execution_count": 25,
   "metadata": {},
   "outputs": [],
   "source": [
    "base_path = 'Dataset/airport'"
   ]
  },
  {
   "cell_type": "code",
   "execution_count": 26,
   "metadata": {},
   "outputs": [],
   "source": [
    "import json\n",
    "from pprint import pprint\n",
    "\n",
    "with open('data.json') as f:\n",
    "    data = json.load(f)"
   ]
  },
  {
   "cell_type": "code",
   "execution_count": 27,
   "metadata": {},
   "outputs": [
    {
     "name": "stdout",
     "output_type": "stream",
     "text": [
      "Parse train_imgs 81; Number of images: 81\n",
      "Final dataset has 45 images"
     ]
    }
   ],
   "source": [
    "i=1\n",
    "imax = len(data[\"frames\"])\n",
    "df = pd.DataFrame(columns=['FileName', 'XMin', 'XMax', 'YMin', 'YMax', 'ClassName', 'Width','Height'])\n",
    "for key,val in data[\"frames\"].items():\n",
    "#     print(key)\n",
    "#     print(val)\n",
    "#     break\n",
    "    \n",
    "    sys.stdout.write('Parse train_imgs ' + str(i) + '; Number of images: ' + str(len(data[\"frames\"])) + '\\r')\n",
    "    sys.stdout.flush()\n",
    "    \n",
    "    for v in val:\n",
    "#         print(v[\"tags\"][0])\n",
    "        \n",
    "        df = df.append({'FileName': key, \n",
    "                                            'XMin': v[\"x1\"], \n",
    "                                            'XMax': v[\"x2\"], \n",
    "                                            'YMin': v[\"y1\"], \n",
    "                                            'YMax': v[\"y2\"], \n",
    "                                            'ClassName': v[\"tags\"][0],\n",
    "                                            'Width': v[\"width\"],\n",
    "                                            'Height': v[\"height\"],}, \n",
    "                                           ignore_index=True)\n",
    "    i+=1\n",
    "\n",
    "sys.stdout.write(\"\\nFinal dataset has {} images\".format(len(df)))"
   ]
  },
  {
   "cell_type": "markdown",
   "metadata": {},
   "source": [
    "### Split into train & test"
   ]
  },
  {
   "cell_type": "code",
   "execution_count": 28,
   "metadata": {},
   "outputs": [
    {
     "name": "stdout",
     "output_type": "stream",
     "text": [
      "split to train: 40 test: 5 ~ train ratio: 0.888889\n"
     ]
    }
   ],
   "source": [
    "msk = np.random.rand(len(df)) < 0.8\n",
    "\n",
    "train = df[msk]\n",
    "test = df[~msk]\n",
    "\n",
    "print(\"split to train: {} test: {} ~ train ratio: {:2f}\".format(len(train), len(test), len(train)/ len(df)))"
   ]
  },
  {
   "cell_type": "code",
   "execution_count": 34,
   "metadata": {},
   "outputs": [],
   "source": [
    "# train.head()"
   ]
  },
  {
   "cell_type": "markdown",
   "metadata": {},
   "source": [
    "### Write  Train & Test annotation.txt and copy files"
   ]
  },
  {
   "cell_type": "code",
   "execution_count": 33,
   "metadata": {},
   "outputs": [
    {
     "name": "stdout",
     "output_type": "stream",
     "text": [
      "Output for train: Dataset/airport/train_annotation.txt\n",
      "Output for test: Dataset/airport/test_annotation.txt\n"
     ]
    }
   ],
   "source": [
    "# print(train_df.head())\n",
    "# train_df = pd.read_csv(os.path.join(base_path, 'train.csv'))\n",
    "\n",
    "types = [\"train\",\"test\"]\n",
    "\n",
    "for t in types:\n",
    "    \n",
    "    if (t==\"train\"):\n",
    "        tmp_df = train\n",
    "    else:\n",
    "        tmp_df = test\n",
    "        \n",
    "    annotation_file = base_path + \"/\" + t + \"_annotation.txt\"\n",
    "    f= open(annotation_file,\"w+\")\n",
    "    \n",
    "    for idx, row in tmp_df.iterrows():\n",
    "        x1 = int(row['XMin'])\n",
    "        x2 = int(row['XMax'])\n",
    "        y1 = int(row['YMin'])\n",
    "        y2 = int(row['YMax'])\n",
    "\n",
    "        res_file_path = base_path + '/' + t\n",
    "        fileName = os.path.join(res_file_path, row['FileName'])\n",
    "        className = row['ClassName']\n",
    "        f.write(fileName + ',' + str(x1) + ',' + str(y1) + ',' + str(x2) + ',' + str(y2) + ',' + className + '\\n')\n",
    "        copyfile(os.path.join(base_path,\"all\",row['FileName']), os.path.join(base_path,t,row['FileName']))\n",
    "    f.close()\n",
    "    print(\"Output for {}: {}\".format(t,annotation_file))"
   ]
  }
 ],
 "metadata": {
  "kernelspec": {
   "display_name": "Python 3 (py36vidhack)",
   "language": "python",
   "name": "py36vidhack"
  },
  "language_info": {
   "codemirror_mode": {
    "name": "ipython",
    "version": 3
   },
   "file_extension": ".py",
   "mimetype": "text/x-python",
   "name": "python",
   "nbconvert_exporter": "python",
   "pygments_lexer": "ipython3",
   "version": "3.6.7"
  }
 },
 "nbformat": 4,
 "nbformat_minor": 2
}
